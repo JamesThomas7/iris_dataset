{
  "nbformat": 4,
  "nbformat_minor": 0,
  "metadata": {
    "colab": {
      "provenance": []
    },
    "kernelspec": {
      "name": "python3",
      "display_name": "Python 3"
    },
    "language_info": {
      "name": "python"
    }
  },
  "cells": [
    {
      "cell_type": "code",
      "execution_count": null,
      "metadata": {
        "id": "I1GWOl0D6UZx",
        "colab": {
          "base_uri": "https://localhost:8080/"
        },
        "outputId": "0b424214-59e5-4c32-a8e5-b66d2dc569ec"
      },
      "outputs": [
        {
          "output_type": "stream",
          "name": "stdout",
          "text": [
            "   sepal length (cm)  sepal width (cm)  petal length (cm)  petal width (cm)\n",
            "0                5.1               3.5                1.4               0.2\n",
            "1                4.9               3.0                1.4               0.2\n",
            "2                4.7               3.2                1.3               0.2\n",
            "3                4.6               3.1                1.5               0.2\n",
            "4                5.0               3.6                1.4               0.2\n",
            "['sepal length (cm)', 'sepal width (cm)', 'petal length (cm)', 'petal width (cm)']\n"
          ]
        }
      ],
      "source": [
        "from sklearn.datasets import load_iris\n",
        "import pandas as pd\n",
        "from sklearn.model_selection import train_test_split\n",
        "from sklearn.linear_model import LogisticRegression\n",
        "from sklearn.metrics import accuracy_score\n",
        "iris=load_iris()\n",
        "iris_df=pd.DataFrame(data=iris.data,columns=iris.feature_names)\n",
        "print(iris_df.head())\n",
        "print(iris.feature_names)\n",
        "\n"
      ]
    },
    {
      "cell_type": "code",
      "source": [
        "iris_df['target'] = iris.target\n",
        "X=iris_df.drop('target',axis=1)\n",
        "y=iris_df['target']\n",
        "X_train,X_test,y_train,y_test=train_test_split(X,y,test_size=0.2,random_state=42)\n",
        "model=LogisticRegression(max_iter=500)\n",
        "model.fit(X_train,y_train)\n",
        "y_pred=model.predict(X_test)\n",
        "accuracy=accuracy_score(y_test,y_pred)\n",
        "print(f\"Accuracy\" ,accuracy)\n"
      ],
      "metadata": {
        "colab": {
          "base_uri": "https://localhost:8080/"
        },
        "id": "cpKjsr6CuD8R",
        "outputId": "695d3282-39d1-496d-b1ed-3b17533c17b2"
      },
      "execution_count": null,
      "outputs": [
        {
          "output_type": "stream",
          "name": "stdout",
          "text": [
            "Accuracy 1.0\n"
          ]
        }
      ]
    },
    {
      "cell_type": "code",
      "source": [
        "new_samples = [\n",
        "    [5.1, 3.5, 1.4, 0.2],\n",
        "    [6.5, 3.0, 5.5, 1.8],\n",
        "    [7.2, 3.6, 6.1, 2.5]\n",
        "]\n",
        "predicted_categories = model.predict(new_samples)\n",
        "\n",
        "flower_categories = {0: 'Setosa', 1: 'Versicolour', 2: 'Virginica'}\n",
        "predicted_flowers = [flower_categories[prediction] for prediction in predicted_categories]\n",
        "\n",
        "for i, sample in enumerate(new_samples):\n",
        "    print(f\"Sample {i+1}: Predicted Category - {predicted_flowers[i]}\")"
      ],
      "metadata": {
        "id": "LAbaGnI99bKH",
        "colab": {
          "base_uri": "https://localhost:8080/"
        },
        "outputId": "96a58a01-a032-41d4-9ece-0daabb365968"
      },
      "execution_count": 17,
      "outputs": [
        {
          "output_type": "stream",
          "name": "stdout",
          "text": [
            "Sample 1: Predicted Category - Setosa\n",
            "Sample 2: Predicted Category - Virginica\n",
            "Sample 3: Predicted Category - Virginica\n"
          ]
        },
        {
          "output_type": "stream",
          "name": "stderr",
          "text": [
            "/usr/local/lib/python3.10/dist-packages/sklearn/base.py:439: UserWarning: X does not have valid feature names, but LogisticRegression was fitted with feature names\n",
            "  warnings.warn(\n"
          ]
        }
      ]
    }
  ]
}